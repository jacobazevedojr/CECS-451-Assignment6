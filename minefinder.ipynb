{
  "nbformat": 4,
  "nbformat_minor": 0,
  "metadata": {
    "colab": {
      "name": "minefinder.ipynb",
      "provenance": [],
      "collapsed_sections": [],
      "toc_visible": true,
      "include_colab_link": true
    },
    "kernelspec": {
      "name": "python3",
      "display_name": "Python 3"
    }
  },
  "cells": [
    {
      "cell_type": "markdown",
      "metadata": {
        "id": "view-in-github",
        "colab_type": "text"
      },
      "source": [
        "<a href=\"https://colab.research.google.com/github/jacobazevedojr/CECS-451-Assignment6/blob/Shujoy/minefinder.ipynb\" target=\"_parent\"><img src=\"https://colab.research.google.com/assets/colab-badge.svg\" alt=\"Open In Colab\"/></a>"
      ]
    },
    {
      "cell_type": "markdown",
      "metadata": {
        "id": "bvBboeg_HiNR"
      },
      "source": [
        "# **CECS 451 Assignment 6**\r\n",
        "\r\n",
        "## **Minesweeper Agent**\r\n",
        "\r\n",
        "-------------------------------------------------------------------------\r\n",
        "\r\n",
        "Variables in Mines:\r\n",
        "\r\n",
        "self.flags -- a list of tuples describing the position of discovered mines (row, col)\r\n",
        "\r\n",
        "Usable Functions from Mines class:\r\n",
        "\r\n",
        "checkcell() -- Checks whether a cell contains a mine or not, will trigger the mine (and lose the game) if one exists\r\n",
        "\r\n",
        "showcurrent() -- Displays the current grid\r\n",
        "\r\n",
        "isfail() -- returns true if a mine has exploded\r\n",
        "\r\n",
        "checkmines() -- checks if self.flags is identical to the actual locations of mines\r\n",
        "\r\n",
        "\r\n",
        "\r\n",
        "##**Description**\r\n",
        "\r\n",
        "-------------------------------------------------------------------------\r\n",
        "\r\n",
        "Each position on the board is either an open space or a mine. If the space is open it has a value corresponding to its position. This value describes how many mines are adjacent to the position (left-right, up-down, and diagonals). To win the game, you must logically deduce where the mines are (or where they aren't) to explore all squares and to \"flag\" all mines.\r\n",
        "\r\n",
        "##**Algorithm**\r\n",
        "\r\n",
        "-------------------------------------------------------------------------\r\n",
        "\r\n",
        "(1) Generate an n x n grid with k mines (This assignment uses n = 16, k = 40)\r\n",
        "\r\n",
        "(2) Always begin by exploring (0, 0), it is guaranteed to be safe\r\n",
        "\r\n",
        "> Each square adjacent to (0, 0) should have a number corresponding to the number of surrounding mines. *Note in the below picture*\r\n",
        "\r\n",
        "![image.png](data:image/png;base64,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)\r\n",
        "\r\n",
        "(3) Build a system of equations describing the current state of the board *Note in the below picture* The system of equations can be described as a set of logical statements with the + indicating an OR relationship. The value equaling the statement is a representation that allows us to see how many mines are tied to the statements.\r\n",
        "\r\n",
        "> If len(statement) == value, all unexplored squares are GUARANTEED to be mines\r\n",
        "\r\n",
        "> Otherwise, the system of equations must be \"probed\" to determine if safe spots exist\r\n",
        "\r\n",
        "![image.png](data:image/png;base64,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)\r\n",
        "\r\n",
        "(4) Build a truth table with the current variables *Note in the below picture* (notice how it is not always efficient to build a system of equations with ALL values on the frontier). *Maybe we can expand locally** when I play, I typically do not account for the entire board, I break it up into a series of micropuzzles.\r\n",
        "\r\n",
        "> Within the truth table, find ALL rows that satisfy the system of equations.\r\n",
        "\r\n",
        "> Then, examine the columns. If any column is all 0's, it is GUARANTEED to be safe. Likewise, if any column is all 1's, it is GUARANTEED to be a mine and it can be flagged\r\n",
        "\r\n",
        "![image.png](data:image/png;base64,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)\r\n",
        "\r\n",
        "(5) Sometimes, there comes points where logical deduction shouldn't be possible. You're forced to make a guess. I'm not sure if Moon's board is guaranteed solvable, but if it isn't we need to account for situations where the machine has to \"guess.\" If we represent positions with probabilities, we can give our machine the ability to choose the highest likelihood choices (or a shot in the dark in the case of 50-50s)\r\n"
      ]
    },
    {
      "cell_type": "code",
      "metadata": {
        "id": "Rn23HXQ_G7MO"
      },
      "source": [
        "from mines import Mines"
      ],
      "execution_count": 239,
      "outputs": []
    },
    {
      "cell_type": "code",
      "metadata": {
        "colab": {
          "base_uri": "https://localhost:8080/"
        },
        "id": "rTefxydaSMIf",
        "outputId": "4736ef47-7c8b-47e4-821a-6e2a3529b60d"
      },
      "source": [
        "# (1) Build the Mines map\r\n",
        "\r\n",
        "# Board dimensions\r\n",
        "n = 4\r\n",
        "# Number of mines\r\n",
        "k = 3\r\n",
        "\r\n",
        "board = Mines(n, k)\r\n",
        "\r\n",
        "# (2) (0, 0) is already explored by default, and guaranteed to have a value of 0\r\n",
        "# All squares adjacent to a 0 are explored by default\r\n",
        "\r\n",
        "visited = [['-1' for i in range(n)] for i in range(n)]\r\n",
        "\r\n",
        "# Display the board\r\n",
        "board.showcurrent()"
      ],
      "execution_count": 240,
      "outputs": [
        {
          "output_type": "stream",
          "text": [
            "     0   1   2   3   \n",
            "   -----------------\n",
            " 0 | 0 | 0 | 1 |   |\n",
            "   -----------------\n",
            " 1 | 0 | 0 | 2 |   |\n",
            "   -----------------\n",
            " 2 | 0 | 0 | 2 |   |\n",
            "   -----------------\n",
            " 3 | 0 | 0 | 2 |   |\n",
            "   -----------------\n",
            "\n"
          ],
          "name": "stdout"
        }
      ]
    },
    {
      "cell_type": "code",
      "metadata": {
        "id": "XicbgUvxSMZr"
      },
      "source": [
        "# Build the frontier, so we know which squares to examine \r\n",
        "# (eliminates the need to explored the entire nxn map more than once)\r\n",
        "# INITIALIZATION METHOD (called once)\r\n",
        "\r\n",
        "# Returns a list of tuples corresponding to each explored position that is \r\n",
        "# adjacent to at least ONE unexplored square\r\n",
        "\r\n",
        "# We don't factor in mine locations yet, because this is ONLY used to initialize\r\n",
        "# frontier locations\r\n",
        "\r\n",
        "# Parameters: brd - mine board\r\n",
        "\r\n",
        "# Returns: \r\n",
        "def buildFrontier(brd):\r\n",
        "  pass"
      ],
      "execution_count": 241,
      "outputs": []
    },
    {
      "cell_type": "code",
      "metadata": {
        "id": "2-WR1yzH-yKz"
      },
      "source": [
        "def updateFrontier(brd,frontier,location):\r\n",
        "  pass"
      ],
      "execution_count": 242,
      "outputs": []
    },
    {
      "cell_type": "code",
      "metadata": {
        "id": "X2bEL3P0-nYX"
      },
      "source": [
        "# Generates a system of equations for the current board state\r\n",
        "\r\n",
        "\r\n",
        "# Parameters: brd -- mine board, frontier -- locations of explored squares along\r\n",
        "# the unexplored boundary\r\n",
        "\r\n",
        "# Returns: tuple (systemOfEquations, unexploredVariableSet, varMap) \r\n",
        "# (Feel free to shorten names)\r\n",
        "\r\n",
        "# systemOfEquations -- list of tuples (Positions, squareValue)\r\n",
        "# Positions -- List of unexplored positions adjacent to square on the frontier\r\n",
        "# squareValue -- Value in the corresponding square on the frontier\r\n",
        "# ^ e.g. systemOfEquations = [ ([(2,3), (2,2), (2,1)], 1), ... ([(2,0), (2,1), (2,2), (2,3)], 1) ]\r\n",
        "\r\n",
        "# unexploredVariableSet -- A set of position tuples \r\n",
        "# These positions are the set of positions that are used in the system of eqs.\r\n",
        "# Set has no duplicates\r\n",
        "\r\n",
        "# (These positions will be used as propositions in the truth table)\r\n",
        "# e.g ((2,3), (2,2), (2,1), (2,0), ...)\r\n",
        "\r\n",
        "# varMap -- a dictionary mapping each position to a column\r\n",
        "# e.g. ((1,2) : 0, (3,2): 1, ... (4,5) : n)\r\n",
        "\r\n",
        "def generateEquations(brd, frontier, flags):\r\n",
        "  \r\n",
        "  frontier = [(0,1), (1,1), (2,1), (2,0)]\r\n",
        "\r\n",
        "  grid = brd.checkcell((0,0))\r\n",
        "  sysEqs = []\r\n",
        "  # create dictionary varMap\r\n",
        "  varMap = {}\r\n",
        "  # create counter for sysEq column position \r\n",
        "  counter = 0\r\n",
        "\r\n",
        "  validNeighbors = []\r\n",
        "\r\n",
        "  # create set of flags to values\r\n",
        "\r\n",
        "  # iterate through each location in frontier:\r\n",
        "  for location in frontier:\r\n",
        "    # check all 8 squares around the location\r\n",
        "\r\n",
        "    # check the 3 rows at or surrounding current location\r\n",
        "    for i in range(location[0] - 1, location[0] + 2):\r\n",
        "      # check the 3 columns at or surrounding current location\r\n",
        "      for j in range(location[1] - 1, location[1] + 2):\r\n",
        "\r\n",
        "        # skip if square is it's the original location square or out of bounds\r\n",
        "        if (i == 0 and j == 0) or (i < 0 or j < 0) or (i > n or j > n):\r\n",
        "          continue\r\n",
        "        # also skip if it's already discovered or flagged\r\n",
        "        if grid[i][j] != ' ' or (i, j) in flags:\r\n",
        "          continue\r\n",
        "\r\n",
        "        # initialize array of tuples to store \"neighbors\" of location\r\n",
        "        validNeighbors = []\r\n",
        "\r\n",
        "          # add it to varMap and increment counter if not already in\r\n",
        "        if (i, j) not in varMap:\r\n",
        "          varMap[(i, j)] = counter\r\n",
        "          counter += 1\r\n",
        "        # add it to current list of valid neighbors\r\n",
        "        validNeighbors.append((i, j))\r\n",
        "\r\n",
        "    # add array of tuples and value of square to system of equations\r\n",
        "    sysEqs.append((validNeighbors, int(grid[location[0]][location[1]])))\r\n",
        "\r\n",
        "  return (sysEqs, varMap)\r\n"
      ],
      "execution_count": 243,
      "outputs": []
    },
    {
      "cell_type": "code",
      "metadata": {
        "id": "MYTJpD_p-tof"
      },
      "source": [
        "import itertools\r\n",
        "\r\n",
        "\r\n",
        "def truthTableSolve(sysEQs, varMap):\r\n",
        "  validStates = []\r\n",
        "  n = len(varMap)\r\n",
        "\r\n",
        "  table = list(itertools.product([0, 1], repeat=n))\r\n",
        "\r\n",
        "  for row in table:\r\n",
        "    # Check for rows that satisfy the system of equations\r\n",
        "    if satisfiesEQs(row, sysEQs, varMap) == True:\r\n",
        "      validStates.append(row)\r\n",
        "  \r\n",
        "  # Check for columns of 1's or 0's. Track the best guess while none are found\r\n",
        "  toCheck, mineLocs, bestGuess = columnCheck(validStates, varMap)\r\n",
        "\r\n",
        "  return (toCheck, mineLocs, bestGuess)"
      ],
      "execution_count": 244,
      "outputs": []
    },
    {
      "cell_type": "code",
      "metadata": {
        "id": "Fj_kSKa4FN-r"
      },
      "source": [
        "def satisfiesEQs(row, sysEQs, varMap):\r\n",
        "  # eq has form: [(2,3), (2,2), (2,1)], 1)\r\n",
        "  # eq[0] = [(2,3), (2,2), (2,1)]\r\n",
        "  # eq[1] = 1\r\n",
        "\r\n",
        "  for eq in sysEQs:\r\n",
        "    total = eq[1]\r\n",
        "    for pos in eq[0]:\r\n",
        "      # varMap[pos] returns the column index\r\n",
        "      index = varMap[pos]\r\n",
        "      # row[index] will have a 0 or 1\r\n",
        "      total += row[index]\r\n",
        "    # total must == eq[1] to be satisfactory\r\n",
        "    if total != eq[1]:\r\n",
        "      return False\r\n",
        "  \r\n",
        "  # Once the row has passed all equations, it is has been verified that it\r\n",
        "  # satisfies the system or equations\r\n",
        "  return True"
      ],
      "execution_count": 245,
      "outputs": []
    },
    {
      "cell_type": "code",
      "metadata": {
        "id": "VApw_a2IFHXQ"
      },
      "source": [
        "def columnCheck(states, varMap):\r\n",
        "  toCheck = []\r\n",
        "  mineLocs = []\r\n",
        "  bestGuess = None\r\n",
        "\r\n",
        "  # Flag to specify that we should still be keeping track of the best guess\r\n",
        "  noneFound = True\r\n",
        "\r\n",
        "  min = float('inf')\r\n",
        "\r\n",
        "  # This loop checks every column one by one for all 0's\r\n",
        "  # or all 1's (or if nothing has been found yet, our bestGuess)\r\n",
        "  for val, pos in enumerate(varMap):\r\n",
        "    Score = 0\r\n",
        "    allZeroes = True\r\n",
        "    allOnes = True\r\n",
        "    for row in states:\r\n",
        "      if row[val] == 0:\r\n",
        "        allOnes = False\r\n",
        "      else:\r\n",
        "        allZeroes = False\r\n",
        "        # Higher score is worse (higher prob of being mine)\r\n",
        "        Score += 1\r\n",
        "\r\n",
        "      # If we have already found a move\r\n",
        "      # And if all states aren't zeroes or ones exclusively\r\n",
        "      # We don't need to explore the column any further\r\n",
        "      # (Don't care about the best move right now)\r\n",
        "      if noneFound == False and allOnes == False and allZeroes == False:\r\n",
        "        continue\r\n",
        "      \r\n",
        "      # Otherwise, we continue the loop to track the best score so far\r\n",
        "\r\n",
        "    # Tracks the best guess so far\r\n",
        "    if Score < min and noneFound == True:\r\n",
        "      min = Score\r\n",
        "      bestGuess = pos\r\n",
        "    else:\r\n",
        "      if allZeroes == True:\r\n",
        "        toCheck.append(pos)\r\n",
        "      elif allOnes == True:\r\n",
        "        mineLocs = []\r\n",
        "      \r\n",
        "  if len(toCheck) > 0 or len(minLocs) > 0:\r\n",
        "    bestGuess = None\r\n",
        "\r\n",
        "  return (toCheck, mineLocs, bestGuess)"
      ],
      "execution_count": 246,
      "outputs": []
    },
    {
      "cell_type": "code",
      "metadata": {
        "id": "EqzkWKsEenV0"
      },
      "source": [
        "# Driver to solve the minesweeper board\r\n",
        "\r\n",
        "# Parameters: brd -- mine board\r\n",
        "def solve(brd):\r\n",
        "  # Frontier contains all explored positions that are adjacent to at least one\r\n",
        "  # unexplored position (only if that position is NOT definitively a mine)\r\n",
        "  frontier = buildFrontier(brd)\r\n",
        "  flags = set(brd.flags)\r\n",
        "\r\n",
        "  # While we haven't lost and the game hasn't been won\r\n",
        "  while brd.isfail() == False and brd.checkmines() == False:\r\n",
        "    # Utilizing the current board, generate a system of equations for every\r\n",
        "    # position on the frontier\r\n",
        "\r\n",
        "    # Function will also build a set of all variables to include within a truth\r\n",
        "    # table\r\n",
        "    # We should optimize and make sure that new equations aren't generated every\r\n",
        "    # single time, maybe we can just call this once and just update going forward\r\n",
        "\r\n",
        "    # A visited graph can help us determine if a position is \r\n",
        "    # (-1) not discovered (1) a mine or (0) safe\r\n",
        "    # From there we can use the logic to allow for previous equations to remain\r\n",
        "    # unchanged (even when we discover new squares)\r\n",
        "    sysEqs, varMap = generateEquations(brd, frontier, flags)\r\n",
        "    # ^ variables is a set of all unexplored positions for the TT\r\n",
        "\r\n",
        "    # Solve the system of equations with a truth table. Returns the next moves\r\n",
        "    # to take and the locations of the discovered mines (add to flags)\r\n",
        "\r\n",
        "    # While toCheck is empty, bestGuess is tracked to determine the highest\r\n",
        "    # probability choice\r\n",
        "    toCheck, mineLocations, bestGuess = truthTableSolve(sysEqs, varMap);\r\n",
        "\r\n",
        "    # Appends each tuple (row, col) from mineLocations into flags\r\n",
        "    for location in mineLocations:\r\n",
        "      flags.add(location)\r\n",
        "      brd.flag.append(location)\r\n",
        "\r\n",
        "    # Expands every location within the toCheck list\r\n",
        "    for location in toCheck:\r\n",
        "      brd.checkcell(location)\r\n",
        "      # Expand frontier to reflect the new expansion \r\n",
        "      # all revealed squares ADJACENT to location are in the previous\r\n",
        "      # frontier, they may or may not be in the frontier once location is \r\n",
        "      # revealed\r\n",
        "      updateFrontier(brd, frontier, location)\r\n",
        "    \r\n",
        "    # No new expansions have been found, we must choose a 50-50\r\n",
        "    # Choose the next expansion with the highest probability of being safe\r\n",
        "    # Tally up the columns for each variable, the variable\r\n",
        "    # with the lowest score is the safest (lowest number of states)\r\n",
        "    if toCheck is None:\r\n",
        "      brd.checkcell(bestGuess)\r\n",
        "\r\n",
        "  if brd.isfail() == True:\r\n",
        "    # We have lost\r\n",
        "    return False\r\n",
        "  \r\n",
        "  # We have solved the board game\r\n",
        "  return True"
      ],
      "execution_count": 247,
      "outputs": []
    },
    {
      "cell_type": "code",
      "metadata": {
        "colab": {
          "base_uri": "https://localhost:8080/",
          "height": 387
        },
        "id": "lZT_Rh9ZSMkX",
        "outputId": "d117dc0c-89ad-4699-b223-4be2a5f69881"
      },
      "source": [
        "winFlag = solve(board)\r\n",
        "\r\n",
        "if winFlag == True:\r\n",
        "  board.showcurrent()\r\n",
        "else:\r\n",
        "  print(\"Solution failed\")"
      ],
      "execution_count": 248,
      "outputs": [
        {
          "output_type": "error",
          "ename": "NameError",
          "evalue": "ignored",
          "traceback": [
            "\u001b[0;31m---------------------------------------------------------------------------\u001b[0m",
            "\u001b[0;31mNameError\u001b[0m                                 Traceback (most recent call last)",
            "\u001b[0;32m<ipython-input-248-5e0e3c673532>\u001b[0m in \u001b[0;36m<module>\u001b[0;34m()\u001b[0m\n\u001b[0;32m----> 1\u001b[0;31m \u001b[0mwinFlag\u001b[0m \u001b[0;34m=\u001b[0m \u001b[0msolve\u001b[0m\u001b[0;34m(\u001b[0m\u001b[0mboard\u001b[0m\u001b[0;34m)\u001b[0m\u001b[0;34m\u001b[0m\u001b[0;34m\u001b[0m\u001b[0m\n\u001b[0m\u001b[1;32m      2\u001b[0m \u001b[0;34m\u001b[0m\u001b[0m\n\u001b[1;32m      3\u001b[0m \u001b[0;32mif\u001b[0m \u001b[0mwinFlag\u001b[0m \u001b[0;34m==\u001b[0m \u001b[0;32mTrue\u001b[0m\u001b[0;34m:\u001b[0m\u001b[0;34m\u001b[0m\u001b[0;34m\u001b[0m\u001b[0m\n\u001b[1;32m      4\u001b[0m   \u001b[0mboard\u001b[0m\u001b[0;34m.\u001b[0m\u001b[0mshowcurrent\u001b[0m\u001b[0;34m(\u001b[0m\u001b[0;34m)\u001b[0m\u001b[0;34m\u001b[0m\u001b[0;34m\u001b[0m\u001b[0m\n\u001b[1;32m      5\u001b[0m \u001b[0;32melse\u001b[0m\u001b[0;34m:\u001b[0m\u001b[0;34m\u001b[0m\u001b[0;34m\u001b[0m\u001b[0m\n",
            "\u001b[0;32m<ipython-input-247-49effb7cdb37>\u001b[0m in \u001b[0;36msolve\u001b[0;34m(brd)\u001b[0m\n\u001b[1;32m     30\u001b[0m     \u001b[0;31m# While toCheck is empty, bestGuess is tracked to determine the highest\u001b[0m\u001b[0;34m\u001b[0m\u001b[0;34m\u001b[0m\u001b[0;34m\u001b[0m\u001b[0m\n\u001b[1;32m     31\u001b[0m     \u001b[0;31m# probability choice\u001b[0m\u001b[0;34m\u001b[0m\u001b[0;34m\u001b[0m\u001b[0;34m\u001b[0m\u001b[0m\n\u001b[0;32m---> 32\u001b[0;31m     \u001b[0mtoCheck\u001b[0m\u001b[0;34m,\u001b[0m \u001b[0mmineLocations\u001b[0m\u001b[0;34m,\u001b[0m \u001b[0mbestGuess\u001b[0m \u001b[0;34m=\u001b[0m \u001b[0mtruthTableSolve\u001b[0m\u001b[0;34m(\u001b[0m\u001b[0msysEqs\u001b[0m\u001b[0;34m,\u001b[0m \u001b[0mvarMap\u001b[0m\u001b[0;34m)\u001b[0m\u001b[0;34m;\u001b[0m\u001b[0;34m\u001b[0m\u001b[0;34m\u001b[0m\u001b[0m\n\u001b[0m\u001b[1;32m     33\u001b[0m \u001b[0;34m\u001b[0m\u001b[0m\n\u001b[1;32m     34\u001b[0m     \u001b[0;31m# Appends each tuple (row, col) from mineLocations into flags\u001b[0m\u001b[0;34m\u001b[0m\u001b[0;34m\u001b[0m\u001b[0;34m\u001b[0m\u001b[0m\n",
            "\u001b[0;32m<ipython-input-244-477ecf9dc167>\u001b[0m in \u001b[0;36mtruthTableSolve\u001b[0;34m(sysEQs, varMap)\u001b[0m\n\u001b[1;32m     14\u001b[0m \u001b[0;34m\u001b[0m\u001b[0m\n\u001b[1;32m     15\u001b[0m   \u001b[0;31m# Check for columns of 1's or 0's. Track the best guess while none are found\u001b[0m\u001b[0;34m\u001b[0m\u001b[0;34m\u001b[0m\u001b[0;34m\u001b[0m\u001b[0m\n\u001b[0;32m---> 16\u001b[0;31m   \u001b[0mtoCheck\u001b[0m\u001b[0;34m,\u001b[0m \u001b[0mmineLocs\u001b[0m\u001b[0;34m,\u001b[0m \u001b[0mbestGuess\u001b[0m \u001b[0;34m=\u001b[0m \u001b[0mcolumnCheck\u001b[0m\u001b[0;34m(\u001b[0m\u001b[0mvalidStates\u001b[0m\u001b[0;34m,\u001b[0m \u001b[0mvarMap\u001b[0m\u001b[0;34m)\u001b[0m\u001b[0;34m\u001b[0m\u001b[0;34m\u001b[0m\u001b[0m\n\u001b[0m\u001b[1;32m     17\u001b[0m \u001b[0;34m\u001b[0m\u001b[0m\n\u001b[1;32m     18\u001b[0m   \u001b[0;32mreturn\u001b[0m \u001b[0;34m(\u001b[0m\u001b[0mtoCheck\u001b[0m\u001b[0;34m,\u001b[0m \u001b[0mmineLocs\u001b[0m\u001b[0;34m,\u001b[0m \u001b[0mbestGuess\u001b[0m\u001b[0;34m)\u001b[0m\u001b[0;34m\u001b[0m\u001b[0;34m\u001b[0m\u001b[0m\n",
            "\u001b[0;32m<ipython-input-246-224ecd6f4358>\u001b[0m in \u001b[0;36mcolumnCheck\u001b[0;34m(states, varMap)\u001b[0m\n\u001b[1;32m     42\u001b[0m         \u001b[0mmineLocs\u001b[0m \u001b[0;34m=\u001b[0m \u001b[0;34m[\u001b[0m\u001b[0;34m]\u001b[0m\u001b[0;34m\u001b[0m\u001b[0;34m\u001b[0m\u001b[0m\n\u001b[1;32m     43\u001b[0m \u001b[0;34m\u001b[0m\u001b[0m\n\u001b[0;32m---> 44\u001b[0;31m   \u001b[0;32mif\u001b[0m \u001b[0mlen\u001b[0m\u001b[0;34m(\u001b[0m\u001b[0mtoCheck\u001b[0m\u001b[0;34m)\u001b[0m \u001b[0;34m>\u001b[0m \u001b[0;36m0\u001b[0m \u001b[0;32mor\u001b[0m \u001b[0mlen\u001b[0m\u001b[0;34m(\u001b[0m\u001b[0mminLocs\u001b[0m\u001b[0;34m)\u001b[0m \u001b[0;34m>\u001b[0m \u001b[0;36m0\u001b[0m\u001b[0;34m:\u001b[0m\u001b[0;34m\u001b[0m\u001b[0;34m\u001b[0m\u001b[0m\n\u001b[0m\u001b[1;32m     45\u001b[0m     \u001b[0mbestGuess\u001b[0m \u001b[0;34m=\u001b[0m \u001b[0;32mNone\u001b[0m\u001b[0;34m\u001b[0m\u001b[0;34m\u001b[0m\u001b[0m\n\u001b[1;32m     46\u001b[0m \u001b[0;34m\u001b[0m\u001b[0m\n",
            "\u001b[0;31mNameError\u001b[0m: name 'minLocs' is not defined"
          ]
        }
      ]
    },
    {
      "cell_type": "code",
      "metadata": {
        "id": "XreTA1DlC-Zw"
      },
      "source": [
        ""
      ],
      "execution_count": null,
      "outputs": []
    }
  ]
}